{
  "metadata": {
    "anaconda-cloud": {},
    "kernelspec": {
      "name": "python",
      "display_name": "Python (Pyodide)",
      "language": "python"
    },
    "language_info": {
      "codemirror_mode": {
        "name": "python",
        "version": 3
      },
      "file_extension": ".py",
      "mimetype": "text/x-python",
      "name": "python",
      "nbconvert_exporter": "python",
      "pygments_lexer": "ipython3",
      "version": "3.8"
    }
  },
  "nbformat_minor": 4,
  "nbformat": 4,
  "cells": [
    {
      "cell_type": "markdown",
      "source": "# Python, Pandas, and Visualizing Data",
      "metadata": {}
    },
    {
      "cell_type": "markdown",
      "source": "",
      "metadata": {}
    },
    {
      "cell_type": "code",
      "source": "import pandas as pd\nimport matplotlib.pyplot as plt\n\n# Enable inline plotting\n%matplotlib inline",
      "metadata": {},
      "execution_count": null,
      "outputs": []
    },
    {
      "cell_type": "markdown",
      "source": "## Reading in Data\n\nWe'll read in a dataset containing some information about cars.\n\nIt's in a CSV file.",
      "metadata": {}
    },
    {
      "cell_type": "code",
      "source": "Location = 'mtcars.csv'\ndf = pd.read_csv(Location)",
      "metadata": {},
      "execution_count": null,
      "outputs": []
    },
    {
      "cell_type": "markdown",
      "source": "We can use the head() function of the data frame to look at the first 5 records.",
      "metadata": {}
    },
    {
      "cell_type": "code",
      "source": "df.head()",
      "metadata": {},
      "execution_count": null,
      "outputs": []
    },
    {
      "cell_type": "markdown",
      "source": "Similarly, we can use the tail() function to look at the last 5 records.",
      "metadata": {}
    },
    {
      "cell_type": "code",
      "source": "df.tail()",
      "metadata": {},
      "execution_count": null,
      "outputs": []
    },
    {
      "cell_type": "markdown",
      "source": "## Changing Values\n\nIf we want to set a value in the data frame, we can use the _loc_ attribute:",
      "metadata": {}
    },
    {
      "cell_type": "code",
      "source": "df.loc[29, 'cyl'] = 4\ndf.loc[df.model == 'Lotus Europa', 'cyl'] = 12\ndf.tail()",
      "metadata": {
        "scrolled": true
      },
      "execution_count": null,
      "outputs": []
    },
    {
      "cell_type": "markdown",
      "source": "If we want to add a new column, we can use _append_. ",
      "metadata": {}
    },
    {
      "cell_type": "code",
      "source": "hp_cyl_ratio = df['hp'] / df['cyl']\n\ndf.assign(ratio = hp_cyl_ratio)",
      "metadata": {},
      "execution_count": null,
      "outputs": []
    },
    {
      "cell_type": "markdown",
      "source": "# Visualizing Data",
      "metadata": {}
    },
    {
      "cell_type": "markdown",
      "source": "We can plot a histogram showing the distribution of mpg (miles per gallon, or fuel efficiency) for all cars.",
      "metadata": {}
    },
    {
      "cell_type": "code",
      "source": "plt.figure()\ndf['mpg'].plot.hist()\nplt.xlabel('Miles per Gallon')\nplt.show()",
      "metadata": {},
      "execution_count": null,
      "outputs": []
    },
    {
      "cell_type": "markdown",
      "source": "We can create a boxplot, showing the distribution of mpg based on number of cylinders.",
      "metadata": {}
    },
    {
      "cell_type": "code",
      "source": "plt.figure()\ndf.boxplot(column='mpg', by='cyl', grid=False)\nplt.xlabel('Miles per Gallon, by Cylinder')\nplt.suptitle(\"\")\nplt.title(\"Boxplot Example\")\nplt.show()",
      "metadata": {},
      "execution_count": null,
      "outputs": []
    },
    {
      "cell_type": "markdown",
      "source": "A barplot could also be used to compare those two variables for each car.",
      "metadata": {}
    },
    {
      "cell_type": "code",
      "source": "plt.figure()\ndf[['mpg', 'cyl']].plot(kind='bar')\nplt.show()",
      "metadata": {},
      "execution_count": null,
      "outputs": []
    },
    {
      "cell_type": "markdown",
      "source": "A scatterplot is useful for seeing a relationship between two variables. ",
      "metadata": {}
    },
    {
      "cell_type": "code",
      "source": "plt.figure()\ndf.plot.scatter('hp', 'mpg')\nplt.xlabel('horsepower')\nplt.ylabel('miles per gallon')\nplt.show()",
      "metadata": {},
      "execution_count": null,
      "outputs": []
    },
    {
      "cell_type": "markdown",
      "source": "# Grouping Data\n\nWe can group data in various ways. For example, we can group the cars by number of cylinders.",
      "metadata": {}
    },
    {
      "cell_type": "code",
      "source": "grouped = df.groupby('cyl')\ngrouped.mean()",
      "metadata": {},
      "execution_count": null,
      "outputs": []
    },
    {
      "cell_type": "code",
      "source": "plt.figure()\ndf.hist(column='wt', by='cyl')\nplt.show()",
      "metadata": {},
      "execution_count": null,
      "outputs": []
    },
    {
      "cell_type": "code",
      "source": "",
      "metadata": {},
      "execution_count": null,
      "outputs": []
    }
  ]
}